{
 "cells": [
  {
   "cell_type": "markdown",
   "id": "b5539653",
   "metadata": {},
   "source": [
    "# HR Analytics - Predict Employee Attrition"
   ]
  },
  {
   "cell_type": "code",
   "execution_count": 1,
   "id": "61a6b50b",
   "metadata": {},
   "outputs": [
    {
     "data": {
      "text/plain": [
       "'C:/Users/vpriy/Downloads/HR_Analytics.csv'"
      ]
     },
     "execution_count": 1,
     "metadata": {},
     "output_type": "execute_result"
    }
   ],
   "source": [
    "data_path = \"C:/Users/vpriy/Downloads/HR_Analytics.csv\"\n",
    "data_path"
   ]
  },
  {
   "cell_type": "code",
   "execution_count": 2,
   "id": "96052427",
   "metadata": {},
   "outputs": [],
   "source": [
    "RANDOM_STATE = 42"
   ]
  },
  {
   "cell_type": "code",
   "execution_count": 3,
   "id": "e202a3af",
   "metadata": {},
   "outputs": [],
   "source": [
    "#Importing librarys\n",
    "import os\n",
    "import warnings\n",
    "warnings.filterwarnings(\"ignore\")\n",
    "import numpy as np\n",
    "import pandas as pd\n",
    "import matplotlib.pyplot as plt\n",
    "import joblib\n",
    "\n",
    "from sklearn.model_selection import train_test_split, StratifiedKFold, GridSearchCV\n",
    "from sklearn.compose import ColumnTransformer\n",
    "from sklearn.preprocessing import OneHotEncoder, StandardScaler\n",
    "from sklearn.pipeline import Pipeline\n",
    "from sklearn.linear_model import LogisticRegression\n",
    "from sklearn.tree import DecisionTreeClassifier\n",
    "from sklearn.metrics import (\n",
    "    classification_report, confusion_matrix, ConfusionMatrixDisplay,\n",
    "    roc_auc_score, average_precision_score, precision_recall_curve, roc_curve, f1_score\n",
    ")\n"
   ]
  },
  {
   "cell_type": "code",
   "execution_count": 4,
   "id": "8667fc6e",
   "metadata": {},
   "outputs": [
    {
     "name": "stdout",
     "output_type": "stream",
     "text": [
      "Requirement already satisfied: shap in c:\\users\\vpriy\\anaconda3\\lib\\site-packages (0.48.0)\n",
      "Requirement already satisfied: slicer==0.0.8 in c:\\users\\vpriy\\anaconda3\\lib\\site-packages (from shap) (0.0.8)\n",
      "Requirement already satisfied: typing-extensions in c:\\users\\vpriy\\anaconda3\\lib\\site-packages (from shap) (4.14.1)\n",
      "Requirement already satisfied: pandas in c:\\users\\vpriy\\anaconda3\\lib\\site-packages (from shap) (1.3.4)\n",
      "Requirement already satisfied: numba>=0.54 in c:\\users\\vpriy\\anaconda3\\lib\\site-packages (from shap) (0.54.1)\n",
      "Requirement already satisfied: tqdm>=4.27.0 in c:\\users\\vpriy\\anaconda3\\lib\\site-packages (from shap) (4.62.3)\n",
      "Requirement already satisfied: scikit-learn in c:\\users\\vpriy\\anaconda3\\lib\\site-packages (from shap) (1.3.0)\n",
      "Requirement already satisfied: scipy in c:\\users\\vpriy\\anaconda3\\lib\\site-packages (from shap) (1.7.1)\n",
      "Requirement already satisfied: packaging>20.9 in c:\\users\\vpriy\\anaconda3\\lib\\site-packages (from shap) (21.0)\n",
      "Requirement already satisfied: cloudpickle in c:\\users\\vpriy\\anaconda3\\lib\\site-packages (from shap) (2.0.0)\n",
      "Requirement already satisfied: numpy in c:\\users\\vpriy\\anaconda3\\lib\\site-packages (from shap) (1.20.3)\n",
      "Requirement already satisfied: llvmlite<0.38,>=0.37.0rc1 in c:\\users\\vpriy\\anaconda3\\lib\\site-packages (from numba>=0.54->shap) (0.37.0)\n",
      "Requirement already satisfied: setuptools in c:\\users\\vpriy\\anaconda3\\lib\\site-packages (from numba>=0.54->shap) (58.0.4)\n",
      "Requirement already satisfied: pyparsing>=2.0.2 in c:\\users\\vpriy\\anaconda3\\lib\\site-packages (from packaging>20.9->shap) (3.0.4)\n",
      "Requirement already satisfied: colorama in c:\\users\\vpriy\\anaconda3\\lib\\site-packages (from tqdm>=4.27.0->shap) (0.4.4)\n",
      "Requirement already satisfied: pytz>=2017.3 in c:\\users\\vpriy\\anaconda3\\lib\\site-packages (from pandas->shap) (2021.3)\n",
      "Requirement already satisfied: python-dateutil>=2.7.3 in c:\\users\\vpriy\\anaconda3\\lib\\site-packages (from pandas->shap) (2.8.2)\n",
      "Requirement already satisfied: six>=1.5 in c:\\users\\vpriy\\anaconda3\\lib\\site-packages (from python-dateutil>=2.7.3->pandas->shap) (1.16.0)\n",
      "Requirement already satisfied: threadpoolctl>=2.0.0 in c:\\users\\vpriy\\anaconda3\\lib\\site-packages (from scikit-learn->shap) (2.2.0)\n",
      "Requirement already satisfied: joblib>=1.1.1 in c:\\users\\vpriy\\anaconda3\\lib\\site-packages (from scikit-learn->shap) (1.3.2)\n",
      "Note: you may need to restart the kernel to use updated packages.\n"
     ]
    }
   ],
   "source": [
    "pip install shap"
   ]
  },
  {
   "cell_type": "code",
   "execution_count": 5,
   "id": "3de58d92",
   "metadata": {},
   "outputs": [],
   "source": [
    "# Make folders for outputs\n",
    "os.makedirs(\"reports\", exist_ok=True)\n",
    "os.makedirs(\"artifacts\", exist_ok=True)"
   ]
  },
  {
   "cell_type": "code",
   "execution_count": 6,
   "id": "d843762e",
   "metadata": {},
   "outputs": [
    {
     "name": "stdout",
     "output_type": "stream",
     "text": [
      "Data shape: (1480, 38)\n"
     ]
    },
    {
     "data": {
      "text/html": [
       "<div>\n",
       "<style scoped>\n",
       "    .dataframe tbody tr th:only-of-type {\n",
       "        vertical-align: middle;\n",
       "    }\n",
       "\n",
       "    .dataframe tbody tr th {\n",
       "        vertical-align: top;\n",
       "    }\n",
       "\n",
       "    .dataframe thead th {\n",
       "        text-align: right;\n",
       "    }\n",
       "</style>\n",
       "<table border=\"1\" class=\"dataframe\">\n",
       "  <thead>\n",
       "    <tr style=\"text-align: right;\">\n",
       "      <th></th>\n",
       "      <th>EmpID</th>\n",
       "      <th>Age</th>\n",
       "      <th>AgeGroup</th>\n",
       "      <th>Attrition</th>\n",
       "      <th>BusinessTravel</th>\n",
       "      <th>DailyRate</th>\n",
       "      <th>Department</th>\n",
       "      <th>DistanceFromHome</th>\n",
       "      <th>Education</th>\n",
       "      <th>EducationField</th>\n",
       "      <th>...</th>\n",
       "      <th>RelationshipSatisfaction</th>\n",
       "      <th>StandardHours</th>\n",
       "      <th>StockOptionLevel</th>\n",
       "      <th>TotalWorkingYears</th>\n",
       "      <th>TrainingTimesLastYear</th>\n",
       "      <th>WorkLifeBalance</th>\n",
       "      <th>YearsAtCompany</th>\n",
       "      <th>YearsInCurrentRole</th>\n",
       "      <th>YearsSinceLastPromotion</th>\n",
       "      <th>YearsWithCurrManager</th>\n",
       "    </tr>\n",
       "  </thead>\n",
       "  <tbody>\n",
       "    <tr>\n",
       "      <th>0</th>\n",
       "      <td>RM297</td>\n",
       "      <td>18</td>\n",
       "      <td>18-25</td>\n",
       "      <td>Yes</td>\n",
       "      <td>Travel_Rarely</td>\n",
       "      <td>230</td>\n",
       "      <td>Research &amp; Development</td>\n",
       "      <td>3</td>\n",
       "      <td>3</td>\n",
       "      <td>Life Sciences</td>\n",
       "      <td>...</td>\n",
       "      <td>3</td>\n",
       "      <td>80</td>\n",
       "      <td>0</td>\n",
       "      <td>0</td>\n",
       "      <td>2</td>\n",
       "      <td>3</td>\n",
       "      <td>0</td>\n",
       "      <td>0</td>\n",
       "      <td>0</td>\n",
       "      <td>0</td>\n",
       "    </tr>\n",
       "    <tr>\n",
       "      <th>1</th>\n",
       "      <td>RM302</td>\n",
       "      <td>18</td>\n",
       "      <td>18-25</td>\n",
       "      <td>No</td>\n",
       "      <td>Travel_Rarely</td>\n",
       "      <td>812</td>\n",
       "      <td>Sales</td>\n",
       "      <td>10</td>\n",
       "      <td>3</td>\n",
       "      <td>Medical</td>\n",
       "      <td>...</td>\n",
       "      <td>1</td>\n",
       "      <td>80</td>\n",
       "      <td>0</td>\n",
       "      <td>0</td>\n",
       "      <td>2</td>\n",
       "      <td>3</td>\n",
       "      <td>0</td>\n",
       "      <td>0</td>\n",
       "      <td>0</td>\n",
       "      <td>0</td>\n",
       "    </tr>\n",
       "    <tr>\n",
       "      <th>2</th>\n",
       "      <td>RM458</td>\n",
       "      <td>18</td>\n",
       "      <td>18-25</td>\n",
       "      <td>Yes</td>\n",
       "      <td>Travel_Frequently</td>\n",
       "      <td>1306</td>\n",
       "      <td>Sales</td>\n",
       "      <td>5</td>\n",
       "      <td>3</td>\n",
       "      <td>Marketing</td>\n",
       "      <td>...</td>\n",
       "      <td>4</td>\n",
       "      <td>80</td>\n",
       "      <td>0</td>\n",
       "      <td>0</td>\n",
       "      <td>3</td>\n",
       "      <td>3</td>\n",
       "      <td>0</td>\n",
       "      <td>0</td>\n",
       "      <td>0</td>\n",
       "      <td>0</td>\n",
       "    </tr>\n",
       "    <tr>\n",
       "      <th>3</th>\n",
       "      <td>RM728</td>\n",
       "      <td>18</td>\n",
       "      <td>18-25</td>\n",
       "      <td>No</td>\n",
       "      <td>Non-Travel</td>\n",
       "      <td>287</td>\n",
       "      <td>Research &amp; Development</td>\n",
       "      <td>5</td>\n",
       "      <td>2</td>\n",
       "      <td>Life Sciences</td>\n",
       "      <td>...</td>\n",
       "      <td>4</td>\n",
       "      <td>80</td>\n",
       "      <td>0</td>\n",
       "      <td>0</td>\n",
       "      <td>2</td>\n",
       "      <td>3</td>\n",
       "      <td>0</td>\n",
       "      <td>0</td>\n",
       "      <td>0</td>\n",
       "      <td>0</td>\n",
       "    </tr>\n",
       "    <tr>\n",
       "      <th>4</th>\n",
       "      <td>RM829</td>\n",
       "      <td>18</td>\n",
       "      <td>18-25</td>\n",
       "      <td>Yes</td>\n",
       "      <td>Non-Travel</td>\n",
       "      <td>247</td>\n",
       "      <td>Research &amp; Development</td>\n",
       "      <td>8</td>\n",
       "      <td>1</td>\n",
       "      <td>Medical</td>\n",
       "      <td>...</td>\n",
       "      <td>4</td>\n",
       "      <td>80</td>\n",
       "      <td>0</td>\n",
       "      <td>0</td>\n",
       "      <td>0</td>\n",
       "      <td>3</td>\n",
       "      <td>0</td>\n",
       "      <td>0</td>\n",
       "      <td>0</td>\n",
       "      <td>0</td>\n",
       "    </tr>\n",
       "  </tbody>\n",
       "</table>\n",
       "<p>5 rows × 38 columns</p>\n",
       "</div>"
      ],
      "text/plain": [
       "   EmpID  Age AgeGroup Attrition     BusinessTravel  DailyRate  \\\n",
       "0  RM297   18    18-25       Yes      Travel_Rarely        230   \n",
       "1  RM302   18    18-25        No      Travel_Rarely        812   \n",
       "2  RM458   18    18-25       Yes  Travel_Frequently       1306   \n",
       "3  RM728   18    18-25        No         Non-Travel        287   \n",
       "4  RM829   18    18-25       Yes         Non-Travel        247   \n",
       "\n",
       "               Department  DistanceFromHome  Education EducationField  ...  \\\n",
       "0  Research & Development                 3          3  Life Sciences  ...   \n",
       "1                   Sales                10          3        Medical  ...   \n",
       "2                   Sales                 5          3      Marketing  ...   \n",
       "3  Research & Development                 5          2  Life Sciences  ...   \n",
       "4  Research & Development                 8          1        Medical  ...   \n",
       "\n",
       "   RelationshipSatisfaction  StandardHours  StockOptionLevel  \\\n",
       "0                         3             80                 0   \n",
       "1                         1             80                 0   \n",
       "2                         4             80                 0   \n",
       "3                         4             80                 0   \n",
       "4                         4             80                 0   \n",
       "\n",
       "  TotalWorkingYears  TrainingTimesLastYear  WorkLifeBalance  YearsAtCompany  \\\n",
       "0                 0                      2                3               0   \n",
       "1                 0                      2                3               0   \n",
       "2                 0                      3                3               0   \n",
       "3                 0                      2                3               0   \n",
       "4                 0                      0                3               0   \n",
       "\n",
       "  YearsInCurrentRole  YearsSinceLastPromotion YearsWithCurrManager  \n",
       "0                  0                        0                    0  \n",
       "1                  0                        0                    0  \n",
       "2                  0                        0                    0  \n",
       "3                  0                        0                    0  \n",
       "4                  0                        0                    0  \n",
       "\n",
       "[5 rows x 38 columns]"
      ]
     },
     "metadata": {},
     "output_type": "display_data"
    }
   ],
   "source": [
    "# 1) Load data\n",
    "df = pd.read_csv(data_path)\n",
    "print(\"Data shape:\", df.shape)\n",
    "display(df.head())"
   ]
  },
  {
   "cell_type": "code",
   "execution_count": 7,
   "id": "5fcc82af",
   "metadata": {},
   "outputs": [],
   "source": [
    "# 2) Quick column housekeeping\n",
    "# Drop constant / useless / identifier columns if present\n",
    "drop_candidates = [\"EmployeeCount\", \"Over18\", \"StandardHours\", \"EmpID\", \"EmployeeNumber\"]\n",
    "for c in drop_candidates:\n",
    "    if c in df.columns:\n",
    "        # For standard/stat columns we drop if constant; for IDs we drop anyway.\n",
    "        if c in [\"EmployeeCount\", \"Over18\", \"StandardHours\"]:\n",
    "            if df[c].nunique() <= 1:\n",
    "                df.drop(columns=[c], inplace=True)\n",
    "        else:\n",
    "            df.drop(columns=[c], inplace=True)"
   ]
  },
  {
   "cell_type": "code",
   "execution_count": 8,
   "id": "2854a5ad",
   "metadata": {},
   "outputs": [
    {
     "data": {
      "text/html": [
       "<div>\n",
       "<style scoped>\n",
       "    .dataframe tbody tr th:only-of-type {\n",
       "        vertical-align: middle;\n",
       "    }\n",
       "\n",
       "    .dataframe tbody tr th {\n",
       "        vertical-align: top;\n",
       "    }\n",
       "\n",
       "    .dataframe thead th {\n",
       "        text-align: right;\n",
       "    }\n",
       "</style>\n",
       "<table border=\"1\" class=\"dataframe\">\n",
       "  <thead>\n",
       "    <tr style=\"text-align: right;\">\n",
       "      <th></th>\n",
       "      <th>Age</th>\n",
       "      <th>AgeGroup</th>\n",
       "      <th>Attrition</th>\n",
       "      <th>BusinessTravel</th>\n",
       "      <th>DailyRate</th>\n",
       "      <th>Department</th>\n",
       "      <th>DistanceFromHome</th>\n",
       "      <th>Education</th>\n",
       "      <th>EducationField</th>\n",
       "      <th>EnvironmentSatisfaction</th>\n",
       "      <th>...</th>\n",
       "      <th>PerformanceRating</th>\n",
       "      <th>RelationshipSatisfaction</th>\n",
       "      <th>StockOptionLevel</th>\n",
       "      <th>TotalWorkingYears</th>\n",
       "      <th>TrainingTimesLastYear</th>\n",
       "      <th>WorkLifeBalance</th>\n",
       "      <th>YearsAtCompany</th>\n",
       "      <th>YearsInCurrentRole</th>\n",
       "      <th>YearsSinceLastPromotion</th>\n",
       "      <th>YearsWithCurrManager</th>\n",
       "    </tr>\n",
       "  </thead>\n",
       "  <tbody>\n",
       "    <tr>\n",
       "      <th>0</th>\n",
       "      <td>18</td>\n",
       "      <td>18-25</td>\n",
       "      <td>Yes</td>\n",
       "      <td>Travel_Rarely</td>\n",
       "      <td>230</td>\n",
       "      <td>Research &amp; Development</td>\n",
       "      <td>3</td>\n",
       "      <td>3</td>\n",
       "      <td>Life Sciences</td>\n",
       "      <td>3</td>\n",
       "      <td>...</td>\n",
       "      <td>3</td>\n",
       "      <td>3</td>\n",
       "      <td>0</td>\n",
       "      <td>0</td>\n",
       "      <td>2</td>\n",
       "      <td>3</td>\n",
       "      <td>0</td>\n",
       "      <td>0</td>\n",
       "      <td>0</td>\n",
       "      <td>0</td>\n",
       "    </tr>\n",
       "    <tr>\n",
       "      <th>1</th>\n",
       "      <td>18</td>\n",
       "      <td>18-25</td>\n",
       "      <td>No</td>\n",
       "      <td>Travel_Rarely</td>\n",
       "      <td>812</td>\n",
       "      <td>Sales</td>\n",
       "      <td>10</td>\n",
       "      <td>3</td>\n",
       "      <td>Medical</td>\n",
       "      <td>4</td>\n",
       "      <td>...</td>\n",
       "      <td>3</td>\n",
       "      <td>1</td>\n",
       "      <td>0</td>\n",
       "      <td>0</td>\n",
       "      <td>2</td>\n",
       "      <td>3</td>\n",
       "      <td>0</td>\n",
       "      <td>0</td>\n",
       "      <td>0</td>\n",
       "      <td>0</td>\n",
       "    </tr>\n",
       "    <tr>\n",
       "      <th>2</th>\n",
       "      <td>18</td>\n",
       "      <td>18-25</td>\n",
       "      <td>Yes</td>\n",
       "      <td>Travel_Frequently</td>\n",
       "      <td>1306</td>\n",
       "      <td>Sales</td>\n",
       "      <td>5</td>\n",
       "      <td>3</td>\n",
       "      <td>Marketing</td>\n",
       "      <td>2</td>\n",
       "      <td>...</td>\n",
       "      <td>3</td>\n",
       "      <td>4</td>\n",
       "      <td>0</td>\n",
       "      <td>0</td>\n",
       "      <td>3</td>\n",
       "      <td>3</td>\n",
       "      <td>0</td>\n",
       "      <td>0</td>\n",
       "      <td>0</td>\n",
       "      <td>0</td>\n",
       "    </tr>\n",
       "    <tr>\n",
       "      <th>3</th>\n",
       "      <td>18</td>\n",
       "      <td>18-25</td>\n",
       "      <td>No</td>\n",
       "      <td>Non-Travel</td>\n",
       "      <td>287</td>\n",
       "      <td>Research &amp; Development</td>\n",
       "      <td>5</td>\n",
       "      <td>2</td>\n",
       "      <td>Life Sciences</td>\n",
       "      <td>2</td>\n",
       "      <td>...</td>\n",
       "      <td>3</td>\n",
       "      <td>4</td>\n",
       "      <td>0</td>\n",
       "      <td>0</td>\n",
       "      <td>2</td>\n",
       "      <td>3</td>\n",
       "      <td>0</td>\n",
       "      <td>0</td>\n",
       "      <td>0</td>\n",
       "      <td>0</td>\n",
       "    </tr>\n",
       "    <tr>\n",
       "      <th>4</th>\n",
       "      <td>18</td>\n",
       "      <td>18-25</td>\n",
       "      <td>Yes</td>\n",
       "      <td>Non-Travel</td>\n",
       "      <td>247</td>\n",
       "      <td>Research &amp; Development</td>\n",
       "      <td>8</td>\n",
       "      <td>1</td>\n",
       "      <td>Medical</td>\n",
       "      <td>3</td>\n",
       "      <td>...</td>\n",
       "      <td>3</td>\n",
       "      <td>4</td>\n",
       "      <td>0</td>\n",
       "      <td>0</td>\n",
       "      <td>0</td>\n",
       "      <td>3</td>\n",
       "      <td>0</td>\n",
       "      <td>0</td>\n",
       "      <td>0</td>\n",
       "      <td>0</td>\n",
       "    </tr>\n",
       "    <tr>\n",
       "      <th>...</th>\n",
       "      <td>...</td>\n",
       "      <td>...</td>\n",
       "      <td>...</td>\n",
       "      <td>...</td>\n",
       "      <td>...</td>\n",
       "      <td>...</td>\n",
       "      <td>...</td>\n",
       "      <td>...</td>\n",
       "      <td>...</td>\n",
       "      <td>...</td>\n",
       "      <td>...</td>\n",
       "      <td>...</td>\n",
       "      <td>...</td>\n",
       "      <td>...</td>\n",
       "      <td>...</td>\n",
       "      <td>...</td>\n",
       "      <td>...</td>\n",
       "      <td>...</td>\n",
       "      <td>...</td>\n",
       "      <td>...</td>\n",
       "      <td>...</td>\n",
       "    </tr>\n",
       "    <tr>\n",
       "      <th>1475</th>\n",
       "      <td>60</td>\n",
       "      <td>55+</td>\n",
       "      <td>No</td>\n",
       "      <td>Travel_Rarely</td>\n",
       "      <td>422</td>\n",
       "      <td>Research &amp; Development</td>\n",
       "      <td>7</td>\n",
       "      <td>3</td>\n",
       "      <td>Life Sciences</td>\n",
       "      <td>1</td>\n",
       "      <td>...</td>\n",
       "      <td>3</td>\n",
       "      <td>4</td>\n",
       "      <td>0</td>\n",
       "      <td>33</td>\n",
       "      <td>5</td>\n",
       "      <td>1</td>\n",
       "      <td>29</td>\n",
       "      <td>8</td>\n",
       "      <td>11</td>\n",
       "      <td>10</td>\n",
       "    </tr>\n",
       "    <tr>\n",
       "      <th>1476</th>\n",
       "      <td>60</td>\n",
       "      <td>55+</td>\n",
       "      <td>No</td>\n",
       "      <td>Travel_Frequently</td>\n",
       "      <td>1499</td>\n",
       "      <td>Sales</td>\n",
       "      <td>28</td>\n",
       "      <td>3</td>\n",
       "      <td>Marketing</td>\n",
       "      <td>3</td>\n",
       "      <td>...</td>\n",
       "      <td>3</td>\n",
       "      <td>4</td>\n",
       "      <td>0</td>\n",
       "      <td>22</td>\n",
       "      <td>5</td>\n",
       "      <td>4</td>\n",
       "      <td>18</td>\n",
       "      <td>13</td>\n",
       "      <td>13</td>\n",
       "      <td>11</td>\n",
       "    </tr>\n",
       "    <tr>\n",
       "      <th>1477</th>\n",
       "      <td>60</td>\n",
       "      <td>55+</td>\n",
       "      <td>No</td>\n",
       "      <td>Travel_Rarely</td>\n",
       "      <td>1179</td>\n",
       "      <td>Sales</td>\n",
       "      <td>16</td>\n",
       "      <td>4</td>\n",
       "      <td>Marketing</td>\n",
       "      <td>1</td>\n",
       "      <td>...</td>\n",
       "      <td>3</td>\n",
       "      <td>4</td>\n",
       "      <td>0</td>\n",
       "      <td>10</td>\n",
       "      <td>1</td>\n",
       "      <td>3</td>\n",
       "      <td>2</td>\n",
       "      <td>2</td>\n",
       "      <td>2</td>\n",
       "      <td>2</td>\n",
       "    </tr>\n",
       "    <tr>\n",
       "      <th>1478</th>\n",
       "      <td>60</td>\n",
       "      <td>55+</td>\n",
       "      <td>No</td>\n",
       "      <td>Travel_Rarely</td>\n",
       "      <td>696</td>\n",
       "      <td>Sales</td>\n",
       "      <td>7</td>\n",
       "      <td>4</td>\n",
       "      <td>Marketing</td>\n",
       "      <td>2</td>\n",
       "      <td>...</td>\n",
       "      <td>3</td>\n",
       "      <td>2</td>\n",
       "      <td>1</td>\n",
       "      <td>12</td>\n",
       "      <td>3</td>\n",
       "      <td>3</td>\n",
       "      <td>11</td>\n",
       "      <td>7</td>\n",
       "      <td>1</td>\n",
       "      <td>9</td>\n",
       "    </tr>\n",
       "    <tr>\n",
       "      <th>1479</th>\n",
       "      <td>60</td>\n",
       "      <td>55+</td>\n",
       "      <td>No</td>\n",
       "      <td>Travel_Rarely</td>\n",
       "      <td>370</td>\n",
       "      <td>Research &amp; Development</td>\n",
       "      <td>1</td>\n",
       "      <td>4</td>\n",
       "      <td>Medical</td>\n",
       "      <td>3</td>\n",
       "      <td>...</td>\n",
       "      <td>4</td>\n",
       "      <td>3</td>\n",
       "      <td>1</td>\n",
       "      <td>19</td>\n",
       "      <td>2</td>\n",
       "      <td>4</td>\n",
       "      <td>1</td>\n",
       "      <td>0</td>\n",
       "      <td>0</td>\n",
       "      <td>0</td>\n",
       "    </tr>\n",
       "  </tbody>\n",
       "</table>\n",
       "<p>1480 rows × 33 columns</p>\n",
       "</div>"
      ],
      "text/plain": [
       "      Age AgeGroup Attrition     BusinessTravel  DailyRate  \\\n",
       "0      18    18-25       Yes      Travel_Rarely        230   \n",
       "1      18    18-25        No      Travel_Rarely        812   \n",
       "2      18    18-25       Yes  Travel_Frequently       1306   \n",
       "3      18    18-25        No         Non-Travel        287   \n",
       "4      18    18-25       Yes         Non-Travel        247   \n",
       "...   ...      ...       ...                ...        ...   \n",
       "1475   60      55+        No      Travel_Rarely        422   \n",
       "1476   60      55+        No  Travel_Frequently       1499   \n",
       "1477   60      55+        No      Travel_Rarely       1179   \n",
       "1478   60      55+        No      Travel_Rarely        696   \n",
       "1479   60      55+        No      Travel_Rarely        370   \n",
       "\n",
       "                  Department  DistanceFromHome  Education EducationField  \\\n",
       "0     Research & Development                 3          3  Life Sciences   \n",
       "1                      Sales                10          3        Medical   \n",
       "2                      Sales                 5          3      Marketing   \n",
       "3     Research & Development                 5          2  Life Sciences   \n",
       "4     Research & Development                 8          1        Medical   \n",
       "...                      ...               ...        ...            ...   \n",
       "1475  Research & Development                 7          3  Life Sciences   \n",
       "1476                   Sales                28          3      Marketing   \n",
       "1477                   Sales                16          4      Marketing   \n",
       "1478                   Sales                 7          4      Marketing   \n",
       "1479  Research & Development                 1          4        Medical   \n",
       "\n",
       "      EnvironmentSatisfaction  ... PerformanceRating  \\\n",
       "0                           3  ...                 3   \n",
       "1                           4  ...                 3   \n",
       "2                           2  ...                 3   \n",
       "3                           2  ...                 3   \n",
       "4                           3  ...                 3   \n",
       "...                       ...  ...               ...   \n",
       "1475                        1  ...                 3   \n",
       "1476                        3  ...                 3   \n",
       "1477                        1  ...                 3   \n",
       "1478                        2  ...                 3   \n",
       "1479                        3  ...                 4   \n",
       "\n",
       "      RelationshipSatisfaction  StockOptionLevel  TotalWorkingYears  \\\n",
       "0                            3                 0                  0   \n",
       "1                            1                 0                  0   \n",
       "2                            4                 0                  0   \n",
       "3                            4                 0                  0   \n",
       "4                            4                 0                  0   \n",
       "...                        ...               ...                ...   \n",
       "1475                         4                 0                 33   \n",
       "1476                         4                 0                 22   \n",
       "1477                         4                 0                 10   \n",
       "1478                         2                 1                 12   \n",
       "1479                         3                 1                 19   \n",
       "\n",
       "     TrainingTimesLastYear  WorkLifeBalance YearsAtCompany  \\\n",
       "0                        2                3              0   \n",
       "1                        2                3              0   \n",
       "2                        3                3              0   \n",
       "3                        2                3              0   \n",
       "4                        0                3              0   \n",
       "...                    ...              ...            ...   \n",
       "1475                     5                1             29   \n",
       "1476                     5                4             18   \n",
       "1477                     1                3              2   \n",
       "1478                     3                3             11   \n",
       "1479                     2                4              1   \n",
       "\n",
       "      YearsInCurrentRole YearsSinceLastPromotion  YearsWithCurrManager  \n",
       "0                      0                       0                     0  \n",
       "1                      0                       0                     0  \n",
       "2                      0                       0                     0  \n",
       "3                      0                       0                     0  \n",
       "4                      0                       0                     0  \n",
       "...                  ...                     ...                   ...  \n",
       "1475                   8                      11                    10  \n",
       "1476                  13                      13                    11  \n",
       "1477                   2                       2                     2  \n",
       "1478                   7                       1                     9  \n",
       "1479                   0                       0                     0  \n",
       "\n",
       "[1480 rows x 33 columns]"
      ]
     },
     "execution_count": 8,
     "metadata": {},
     "output_type": "execute_result"
    }
   ],
   "source": [
    "df"
   ]
  },
  {
   "cell_type": "code",
   "execution_count": 9,
   "id": "396623fa",
   "metadata": {},
   "outputs": [],
   "source": [
    "# Ensure target exists and map to binary\n",
    "if \"Attrition\" not in df.columns:\n",
    "    raise ValueError(\"No Attrition column found. Make sure it exists as Yes/No.\")\n",
    "df[\"Attrition\"] = df[\"Attrition\"].map({\"Yes\": 1, \"No\": 0}).astype(int)"
   ]
  },
  {
   "cell_type": "code",
   "execution_count": 10,
   "id": "3e60e137",
   "metadata": {},
   "outputs": [
    {
     "data": {
      "text/html": [
       "<div>\n",
       "<style scoped>\n",
       "    .dataframe tbody tr th:only-of-type {\n",
       "        vertical-align: middle;\n",
       "    }\n",
       "\n",
       "    .dataframe tbody tr th {\n",
       "        vertical-align: top;\n",
       "    }\n",
       "\n",
       "    .dataframe thead th {\n",
       "        text-align: right;\n",
       "    }\n",
       "</style>\n",
       "<table border=\"1\" class=\"dataframe\">\n",
       "  <thead>\n",
       "    <tr style=\"text-align: right;\">\n",
       "      <th></th>\n",
       "      <th>Age</th>\n",
       "      <th>AgeGroup</th>\n",
       "      <th>Attrition</th>\n",
       "      <th>BusinessTravel</th>\n",
       "      <th>DailyRate</th>\n",
       "      <th>Department</th>\n",
       "      <th>DistanceFromHome</th>\n",
       "      <th>Education</th>\n",
       "      <th>EducationField</th>\n",
       "      <th>EnvironmentSatisfaction</th>\n",
       "      <th>...</th>\n",
       "      <th>PerformanceRating</th>\n",
       "      <th>RelationshipSatisfaction</th>\n",
       "      <th>StockOptionLevel</th>\n",
       "      <th>TotalWorkingYears</th>\n",
       "      <th>TrainingTimesLastYear</th>\n",
       "      <th>WorkLifeBalance</th>\n",
       "      <th>YearsAtCompany</th>\n",
       "      <th>YearsInCurrentRole</th>\n",
       "      <th>YearsSinceLastPromotion</th>\n",
       "      <th>YearsWithCurrManager</th>\n",
       "    </tr>\n",
       "  </thead>\n",
       "  <tbody>\n",
       "    <tr>\n",
       "      <th>0</th>\n",
       "      <td>18</td>\n",
       "      <td>18-25</td>\n",
       "      <td>1</td>\n",
       "      <td>Travel_Rarely</td>\n",
       "      <td>230</td>\n",
       "      <td>Research &amp; Development</td>\n",
       "      <td>3</td>\n",
       "      <td>3</td>\n",
       "      <td>Life Sciences</td>\n",
       "      <td>3</td>\n",
       "      <td>...</td>\n",
       "      <td>3</td>\n",
       "      <td>3</td>\n",
       "      <td>0</td>\n",
       "      <td>0</td>\n",
       "      <td>2</td>\n",
       "      <td>3</td>\n",
       "      <td>0</td>\n",
       "      <td>0</td>\n",
       "      <td>0</td>\n",
       "      <td>0</td>\n",
       "    </tr>\n",
       "    <tr>\n",
       "      <th>1</th>\n",
       "      <td>18</td>\n",
       "      <td>18-25</td>\n",
       "      <td>0</td>\n",
       "      <td>Travel_Rarely</td>\n",
       "      <td>812</td>\n",
       "      <td>Sales</td>\n",
       "      <td>10</td>\n",
       "      <td>3</td>\n",
       "      <td>Medical</td>\n",
       "      <td>4</td>\n",
       "      <td>...</td>\n",
       "      <td>3</td>\n",
       "      <td>1</td>\n",
       "      <td>0</td>\n",
       "      <td>0</td>\n",
       "      <td>2</td>\n",
       "      <td>3</td>\n",
       "      <td>0</td>\n",
       "      <td>0</td>\n",
       "      <td>0</td>\n",
       "      <td>0</td>\n",
       "    </tr>\n",
       "    <tr>\n",
       "      <th>2</th>\n",
       "      <td>18</td>\n",
       "      <td>18-25</td>\n",
       "      <td>1</td>\n",
       "      <td>Travel_Frequently</td>\n",
       "      <td>1306</td>\n",
       "      <td>Sales</td>\n",
       "      <td>5</td>\n",
       "      <td>3</td>\n",
       "      <td>Marketing</td>\n",
       "      <td>2</td>\n",
       "      <td>...</td>\n",
       "      <td>3</td>\n",
       "      <td>4</td>\n",
       "      <td>0</td>\n",
       "      <td>0</td>\n",
       "      <td>3</td>\n",
       "      <td>3</td>\n",
       "      <td>0</td>\n",
       "      <td>0</td>\n",
       "      <td>0</td>\n",
       "      <td>0</td>\n",
       "    </tr>\n",
       "    <tr>\n",
       "      <th>3</th>\n",
       "      <td>18</td>\n",
       "      <td>18-25</td>\n",
       "      <td>0</td>\n",
       "      <td>Non-Travel</td>\n",
       "      <td>287</td>\n",
       "      <td>Research &amp; Development</td>\n",
       "      <td>5</td>\n",
       "      <td>2</td>\n",
       "      <td>Life Sciences</td>\n",
       "      <td>2</td>\n",
       "      <td>...</td>\n",
       "      <td>3</td>\n",
       "      <td>4</td>\n",
       "      <td>0</td>\n",
       "      <td>0</td>\n",
       "      <td>2</td>\n",
       "      <td>3</td>\n",
       "      <td>0</td>\n",
       "      <td>0</td>\n",
       "      <td>0</td>\n",
       "      <td>0</td>\n",
       "    </tr>\n",
       "    <tr>\n",
       "      <th>4</th>\n",
       "      <td>18</td>\n",
       "      <td>18-25</td>\n",
       "      <td>1</td>\n",
       "      <td>Non-Travel</td>\n",
       "      <td>247</td>\n",
       "      <td>Research &amp; Development</td>\n",
       "      <td>8</td>\n",
       "      <td>1</td>\n",
       "      <td>Medical</td>\n",
       "      <td>3</td>\n",
       "      <td>...</td>\n",
       "      <td>3</td>\n",
       "      <td>4</td>\n",
       "      <td>0</td>\n",
       "      <td>0</td>\n",
       "      <td>0</td>\n",
       "      <td>3</td>\n",
       "      <td>0</td>\n",
       "      <td>0</td>\n",
       "      <td>0</td>\n",
       "      <td>0</td>\n",
       "    </tr>\n",
       "    <tr>\n",
       "      <th>...</th>\n",
       "      <td>...</td>\n",
       "      <td>...</td>\n",
       "      <td>...</td>\n",
       "      <td>...</td>\n",
       "      <td>...</td>\n",
       "      <td>...</td>\n",
       "      <td>...</td>\n",
       "      <td>...</td>\n",
       "      <td>...</td>\n",
       "      <td>...</td>\n",
       "      <td>...</td>\n",
       "      <td>...</td>\n",
       "      <td>...</td>\n",
       "      <td>...</td>\n",
       "      <td>...</td>\n",
       "      <td>...</td>\n",
       "      <td>...</td>\n",
       "      <td>...</td>\n",
       "      <td>...</td>\n",
       "      <td>...</td>\n",
       "      <td>...</td>\n",
       "    </tr>\n",
       "    <tr>\n",
       "      <th>1475</th>\n",
       "      <td>60</td>\n",
       "      <td>55+</td>\n",
       "      <td>0</td>\n",
       "      <td>Travel_Rarely</td>\n",
       "      <td>422</td>\n",
       "      <td>Research &amp; Development</td>\n",
       "      <td>7</td>\n",
       "      <td>3</td>\n",
       "      <td>Life Sciences</td>\n",
       "      <td>1</td>\n",
       "      <td>...</td>\n",
       "      <td>3</td>\n",
       "      <td>4</td>\n",
       "      <td>0</td>\n",
       "      <td>33</td>\n",
       "      <td>5</td>\n",
       "      <td>1</td>\n",
       "      <td>29</td>\n",
       "      <td>8</td>\n",
       "      <td>11</td>\n",
       "      <td>10</td>\n",
       "    </tr>\n",
       "    <tr>\n",
       "      <th>1476</th>\n",
       "      <td>60</td>\n",
       "      <td>55+</td>\n",
       "      <td>0</td>\n",
       "      <td>Travel_Frequently</td>\n",
       "      <td>1499</td>\n",
       "      <td>Sales</td>\n",
       "      <td>28</td>\n",
       "      <td>3</td>\n",
       "      <td>Marketing</td>\n",
       "      <td>3</td>\n",
       "      <td>...</td>\n",
       "      <td>3</td>\n",
       "      <td>4</td>\n",
       "      <td>0</td>\n",
       "      <td>22</td>\n",
       "      <td>5</td>\n",
       "      <td>4</td>\n",
       "      <td>18</td>\n",
       "      <td>13</td>\n",
       "      <td>13</td>\n",
       "      <td>11</td>\n",
       "    </tr>\n",
       "    <tr>\n",
       "      <th>1477</th>\n",
       "      <td>60</td>\n",
       "      <td>55+</td>\n",
       "      <td>0</td>\n",
       "      <td>Travel_Rarely</td>\n",
       "      <td>1179</td>\n",
       "      <td>Sales</td>\n",
       "      <td>16</td>\n",
       "      <td>4</td>\n",
       "      <td>Marketing</td>\n",
       "      <td>1</td>\n",
       "      <td>...</td>\n",
       "      <td>3</td>\n",
       "      <td>4</td>\n",
       "      <td>0</td>\n",
       "      <td>10</td>\n",
       "      <td>1</td>\n",
       "      <td>3</td>\n",
       "      <td>2</td>\n",
       "      <td>2</td>\n",
       "      <td>2</td>\n",
       "      <td>2</td>\n",
       "    </tr>\n",
       "    <tr>\n",
       "      <th>1478</th>\n",
       "      <td>60</td>\n",
       "      <td>55+</td>\n",
       "      <td>0</td>\n",
       "      <td>Travel_Rarely</td>\n",
       "      <td>696</td>\n",
       "      <td>Sales</td>\n",
       "      <td>7</td>\n",
       "      <td>4</td>\n",
       "      <td>Marketing</td>\n",
       "      <td>2</td>\n",
       "      <td>...</td>\n",
       "      <td>3</td>\n",
       "      <td>2</td>\n",
       "      <td>1</td>\n",
       "      <td>12</td>\n",
       "      <td>3</td>\n",
       "      <td>3</td>\n",
       "      <td>11</td>\n",
       "      <td>7</td>\n",
       "      <td>1</td>\n",
       "      <td>9</td>\n",
       "    </tr>\n",
       "    <tr>\n",
       "      <th>1479</th>\n",
       "      <td>60</td>\n",
       "      <td>55+</td>\n",
       "      <td>0</td>\n",
       "      <td>Travel_Rarely</td>\n",
       "      <td>370</td>\n",
       "      <td>Research &amp; Development</td>\n",
       "      <td>1</td>\n",
       "      <td>4</td>\n",
       "      <td>Medical</td>\n",
       "      <td>3</td>\n",
       "      <td>...</td>\n",
       "      <td>4</td>\n",
       "      <td>3</td>\n",
       "      <td>1</td>\n",
       "      <td>19</td>\n",
       "      <td>2</td>\n",
       "      <td>4</td>\n",
       "      <td>1</td>\n",
       "      <td>0</td>\n",
       "      <td>0</td>\n",
       "      <td>0</td>\n",
       "    </tr>\n",
       "  </tbody>\n",
       "</table>\n",
       "<p>1480 rows × 33 columns</p>\n",
       "</div>"
      ],
      "text/plain": [
       "      Age AgeGroup  Attrition     BusinessTravel  DailyRate  \\\n",
       "0      18    18-25          1      Travel_Rarely        230   \n",
       "1      18    18-25          0      Travel_Rarely        812   \n",
       "2      18    18-25          1  Travel_Frequently       1306   \n",
       "3      18    18-25          0         Non-Travel        287   \n",
       "4      18    18-25          1         Non-Travel        247   \n",
       "...   ...      ...        ...                ...        ...   \n",
       "1475   60      55+          0      Travel_Rarely        422   \n",
       "1476   60      55+          0  Travel_Frequently       1499   \n",
       "1477   60      55+          0      Travel_Rarely       1179   \n",
       "1478   60      55+          0      Travel_Rarely        696   \n",
       "1479   60      55+          0      Travel_Rarely        370   \n",
       "\n",
       "                  Department  DistanceFromHome  Education EducationField  \\\n",
       "0     Research & Development                 3          3  Life Sciences   \n",
       "1                      Sales                10          3        Medical   \n",
       "2                      Sales                 5          3      Marketing   \n",
       "3     Research & Development                 5          2  Life Sciences   \n",
       "4     Research & Development                 8          1        Medical   \n",
       "...                      ...               ...        ...            ...   \n",
       "1475  Research & Development                 7          3  Life Sciences   \n",
       "1476                   Sales                28          3      Marketing   \n",
       "1477                   Sales                16          4      Marketing   \n",
       "1478                   Sales                 7          4      Marketing   \n",
       "1479  Research & Development                 1          4        Medical   \n",
       "\n",
       "      EnvironmentSatisfaction  ... PerformanceRating  \\\n",
       "0                           3  ...                 3   \n",
       "1                           4  ...                 3   \n",
       "2                           2  ...                 3   \n",
       "3                           2  ...                 3   \n",
       "4                           3  ...                 3   \n",
       "...                       ...  ...               ...   \n",
       "1475                        1  ...                 3   \n",
       "1476                        3  ...                 3   \n",
       "1477                        1  ...                 3   \n",
       "1478                        2  ...                 3   \n",
       "1479                        3  ...                 4   \n",
       "\n",
       "      RelationshipSatisfaction  StockOptionLevel  TotalWorkingYears  \\\n",
       "0                            3                 0                  0   \n",
       "1                            1                 0                  0   \n",
       "2                            4                 0                  0   \n",
       "3                            4                 0                  0   \n",
       "4                            4                 0                  0   \n",
       "...                        ...               ...                ...   \n",
       "1475                         4                 0                 33   \n",
       "1476                         4                 0                 22   \n",
       "1477                         4                 0                 10   \n",
       "1478                         2                 1                 12   \n",
       "1479                         3                 1                 19   \n",
       "\n",
       "     TrainingTimesLastYear  WorkLifeBalance YearsAtCompany  \\\n",
       "0                        2                3              0   \n",
       "1                        2                3              0   \n",
       "2                        3                3              0   \n",
       "3                        2                3              0   \n",
       "4                        0                3              0   \n",
       "...                    ...              ...            ...   \n",
       "1475                     5                1             29   \n",
       "1476                     5                4             18   \n",
       "1477                     1                3              2   \n",
       "1478                     3                3             11   \n",
       "1479                     2                4              1   \n",
       "\n",
       "      YearsInCurrentRole YearsSinceLastPromotion  YearsWithCurrManager  \n",
       "0                      0                       0                     0  \n",
       "1                      0                       0                     0  \n",
       "2                      0                       0                     0  \n",
       "3                      0                       0                     0  \n",
       "4                      0                       0                     0  \n",
       "...                  ...                     ...                   ...  \n",
       "1475                   8                      11                    10  \n",
       "1476                  13                      13                    11  \n",
       "1477                   2                       2                     2  \n",
       "1478                   7                       1                     9  \n",
       "1479                   0                       0                     0  \n",
       "\n",
       "[1480 rows x 33 columns]"
      ]
     },
     "execution_count": 10,
     "metadata": {},
     "output_type": "execute_result"
    }
   ],
   "source": [
    "df"
   ]
  },
  {
   "cell_type": "code",
   "execution_count": 11,
   "id": "1e941187",
   "metadata": {},
   "outputs": [],
   "source": [
    "# 3) Basic missing handling + split features\n",
    "# Separate X/y\n",
    "y = df[\"Attrition\"]\n",
    "X = df.drop(columns=[\"Attrition\"])"
   ]
  },
  {
   "cell_type": "code",
   "execution_count": 12,
   "id": "e24bed85",
   "metadata": {},
   "outputs": [],
   "source": [
    "# Identify numeric/categorical\n",
    "num_cols = X.select_dtypes(include=[np.number]).columns.tolist()\n",
    "cat_cols = [c for c in X.columns if c not in num_cols]"
   ]
  },
  {
   "cell_type": "code",
   "execution_count": 13,
   "id": "07c29f0a",
   "metadata": {},
   "outputs": [
    {
     "data": {
      "text/plain": [
       "['Age',\n",
       " 'DailyRate',\n",
       " 'DistanceFromHome',\n",
       " 'Education',\n",
       " 'EnvironmentSatisfaction',\n",
       " 'HourlyRate',\n",
       " 'JobInvolvement',\n",
       " 'JobLevel',\n",
       " 'JobSatisfaction',\n",
       " 'MonthlyIncome',\n",
       " 'MonthlyRate',\n",
       " 'NumCompaniesWorked',\n",
       " 'PercentSalaryHike',\n",
       " 'PerformanceRating',\n",
       " 'RelationshipSatisfaction',\n",
       " 'StockOptionLevel',\n",
       " 'TotalWorkingYears',\n",
       " 'TrainingTimesLastYear',\n",
       " 'WorkLifeBalance',\n",
       " 'YearsAtCompany',\n",
       " 'YearsInCurrentRole',\n",
       " 'YearsSinceLastPromotion',\n",
       " 'YearsWithCurrManager']"
      ]
     },
     "execution_count": 13,
     "metadata": {},
     "output_type": "execute_result"
    }
   ],
   "source": [
    "num_cols"
   ]
  },
  {
   "cell_type": "code",
   "execution_count": 14,
   "id": "b4d46709",
   "metadata": {},
   "outputs": [
    {
     "data": {
      "text/plain": [
       "['AgeGroup',\n",
       " 'BusinessTravel',\n",
       " 'Department',\n",
       " 'EducationField',\n",
       " 'Gender',\n",
       " 'JobRole',\n",
       " 'MaritalStatus',\n",
       " 'SalarySlab',\n",
       " 'OverTime']"
      ]
     },
     "execution_count": 14,
     "metadata": {},
     "output_type": "execute_result"
    }
   ],
   "source": [
    "cat_cols"
   ]
  },
  {
   "cell_type": "code",
   "execution_count": 15,
   "id": "0b8d05ea",
   "metadata": {},
   "outputs": [],
   "source": [
    "# Fill missing: numeric -> median, categorical -> \"Unknown\"\n",
    "for c in num_cols:\n",
    "    X[c] = X[c].fillna(X[c].median())\n",
    "for c in cat_cols:\n",
    "    X[c] = X[c].fillna(\"Unknown\")"
   ]
  },
  {
   "cell_type": "code",
   "execution_count": 16,
   "id": "27cbdf4c",
   "metadata": {},
   "outputs": [
    {
     "name": "stdout",
     "output_type": "stream",
     "text": [
      "0 missing values remain.\n"
     ]
    }
   ],
   "source": [
    "print(df.isnull().sum().sum(), \"missing values remain.\")"
   ]
  },
  {
   "cell_type": "code",
   "execution_count": 17,
   "id": "e199a867",
   "metadata": {},
   "outputs": [
    {
     "name": "stdout",
     "output_type": "stream",
     "text": [
      "Numeric cols: 23 ['Age', 'DailyRate', 'DistanceFromHome', 'Education', 'EnvironmentSatisfaction', 'HourlyRate', 'JobInvolvement', 'JobLevel', 'JobSatisfaction', 'MonthlyIncome']\n",
      "Categorical cols: 9 ['AgeGroup', 'BusinessTravel', 'Department', 'EducationField', 'Gender', 'JobRole', 'MaritalStatus', 'SalarySlab', 'OverTime']\n"
     ]
    }
   ],
   "source": [
    "print(\"Numeric cols:\", len(num_cols), num_cols[:10])\n",
    "print(\"Categorical cols:\", len(cat_cols), cat_cols[:10])"
   ]
  },
  {
   "cell_type": "markdown",
   "id": "062788b6",
   "metadata": {},
   "source": [
    "# Feature Engineering"
   ]
  },
  {
   "cell_type": "code",
   "execution_count": 18,
   "id": "80aef03a",
   "metadata": {},
   "outputs": [],
   "source": [
    "# Add Tenure bands if YearsAtCompany exists\n",
    "if \"YearsAtCompany\" in X.columns:\n",
    "    X[\"TenureBand\"] = pd.cut(\n",
    "        X[\"YearsAtCompany\"],\n",
    "        bins=[-1, 1, 3, 5, 10, 100],\n",
    "        labels=[\"0-1\", \"1-3\", \"3-5\", \"5-10\", \"10+\"]\n",
    "    ).astype(str)"
   ]
  },
  {
   "cell_type": "code",
   "execution_count": 19,
   "id": "d023a393",
   "metadata": {},
   "outputs": [],
   "source": [
    "# RecentPromotion flag\n",
    "if \"YearsSinceLastPromotion\" in X.columns:\n",
    "    X[\"RecentPromotion\"] = (X[\"YearsSinceLastPromotion\"] <= 2).astype(int)"
   ]
  },
  {
   "cell_type": "code",
   "execution_count": 20,
   "id": "e697e28d",
   "metadata": {},
   "outputs": [],
   "source": [
    "# Pay relative to role median (if both MonthlyIncome and JobRole present)\n",
    "if (\"MonthlyIncome\" in X.columns) and (\"JobRole\" in X.columns):\n",
    "    role_med = X.groupby(\"JobRole\")[\"MonthlyIncome\"].transform(\"median\").replace(0, 1)\n",
    "    X[\"PayToRoleMedian\"] = X[\"MonthlyIncome\"] / role_med"
   ]
  },
  {
   "cell_type": "code",
   "execution_count": 21,
   "id": "01ec56e7",
   "metadata": {},
   "outputs": [],
   "source": [
    "# Overtime numeric flag\n",
    "if \"OverTime\" in X.columns:\n",
    "    X[\"OverTimeFlag\"] = X[\"OverTime\"].apply(lambda v: 1 if str(v).strip().lower() in (\"yes\",\"y\",\"true\",\"1\") else 0)"
   ]
  },
  {
   "cell_type": "code",
   "execution_count": 22,
   "id": "feda2ca0",
   "metadata": {},
   "outputs": [
    {
     "name": "stdout",
     "output_type": "stream",
     "text": [
      "After FE -> numeric: 26 categorical: 10\n"
     ]
    }
   ],
   "source": [
    "# Update column lists after engineering\n",
    "num_cols = X.select_dtypes(include=[np.number]).columns.tolist()\n",
    "cat_cols = [c for c in X.columns if c not in num_cols]\n",
    "print(\"After FE -> numeric:\", len(num_cols), \"categorical:\", len(cat_cols))"
   ]
  },
  {
   "cell_type": "markdown",
   "id": "6c6afb3c",
   "metadata": {},
   "source": [
    "# Exploratory Data Analysis"
   ]
  },
  {
   "cell_type": "code",
   "execution_count": 23,
   "id": "72624f1e",
   "metadata": {},
   "outputs": [
    {
     "name": "stdout",
     "output_type": "stream",
     "text": [
      "Overall attrition rate: 0.161\n"
     ]
    }
   ],
   "source": [
    "# Attrition rate\n",
    "attr_rate = y.mean()\n",
    "print(f\"Overall attrition rate: {attr_rate:.3f}\")"
   ]
  },
  {
   "cell_type": "code",
   "execution_count": 24,
   "id": "a529fceb",
   "metadata": {},
   "outputs": [
    {
     "data": {
      "image/png": "[encoded data removed]",
      "text/plain": [
       "<Figure size 432x288 with 1 Axes>"
      ]
     },
     "metadata": {
      "needs_background": "light"
     },
     "output_type": "display_data"
    }
   ],
   "source": [
    "# Plot attrition counts\n",
    "plt.figure()\n",
    "pd.Series(y).value_counts().sort_index().plot(kind=\"bar\")\n",
    "plt.title(\"Attrition counts (0=Stay, 1=Leave)\")\n",
    "plt.xlabel(\"Attrition\")\n",
    "plt.ylabel(\"Count\")\n",
    "plt.tight_layout()\n",
    "plt.savefig(\"reports/attrition_count.png\")\n",
    "plt.show()"
   ]
  },
  {
   "cell_type": "code",
   "execution_count": 25,
   "id": "298d31f6",
   "metadata": {},
   "outputs": [],
   "source": [
    "def plot_rate_by_col(col):\n",
    "    if col not in X.columns:\n",
    "        return\n",
    "    tmp = pd.DataFrame({\"col\": X[col].astype(str), \"y\": y})\n",
    "    rate = tmp.groupby(\"col\")[\"y\"].mean().sort_values(ascending=False)\n",
    "    plt.figure(figsize=(6,3))\n",
    "    rate.plot(kind=\"bar\")\n",
    "    plt.title(f\"Attrition rate by {col}\")\n",
    "    plt.ylabel(\"Mean(Attrition)\")\n",
    "    plt.tight_layout()\n",
    "    plt.savefig(f\"reports/attrition_by_{col}.png\")\n",
    "    plt.show()"
   ]
  },
  {
   "cell_type": "code",
   "execution_count": 26,
   "id": "3dd7615e",
   "metadata": {},
   "outputs": [
    {
     "data": {
      "image/png": "[encoded data removed]",
      "text/plain": [
       "<Figure size 432x216 with 1 Axes>"
      ]
     },
     "metadata": {
      "needs_background": "light"
     },
     "output_type": "display_data"
    },
    {
     "data": {
      "image/png": "[encoded data removed]",
      "text/plain": [
       "<Figure size 432x216 with 1 Axes>"
      ]
     },
     "metadata": {
      "needs_background": "light"
     },
     "output_type": "display_data"
    },
    {
     "data": {
      "image/png": "[encoded data removed]",
      "text/plain": [
       "<Figure size 432x216 with 1 Axes>"
      ]
     },
     "metadata": {
      "needs_background": "light"
     },
     "output_type": "display_data"
    },
    {
     "data": {
      "image/png": "[encoded data removed]",
      "text/plain": [
       "<Figure size 432x216 with 1 Axes>"
      ]
     },
     "metadata": {
      "needs_background": "light"
     },
     "output_type": "display_data"
    },
    {
     "data": {
      "image/png": "[encoded data removed]",
      "text/plain": [
       "<Figure size 432x216 with 1 Axes>"
      ]
     },
     "metadata": {
      "needs_background": "light"
     },
     "output_type": "display_data"
    },
    {
     "data": {
      "image/png": "[encoded data removed]",
      "text/plain": [
       "<Figure size 432x216 with 1 Axes>"
      ]
     },
     "metadata": {
      "needs_background": "light"
     },
     "output_type": "display_data"
    }
   ],
   "source": [
    "for col in [\"Department\", \"JobRole\", \"OverTime\", \"AgeGroup\", \"SalarySlab\", \"TenureBand\"]:\n",
    "    plot_rate_by_col(col)"
   ]
  },
  {
   "cell_type": "code",
   "execution_count": 27,
   "id": "57aff81b",
   "metadata": {},
   "outputs": [
    {
     "data": {
      "text/plain": [
       "<Figure size 432x288 with 0 Axes>"
      ]
     },
     "metadata": {},
     "output_type": "display_data"
    },
    {
     "data": {
      "image/png": "[encoded data removed]",
      "text/plain": [
       "<Figure size 432x288 with 1 Axes>"
      ]
     },
     "metadata": {
      "needs_background": "light"
     },
     "output_type": "display_data"
    },
    {
     "data": {
      "text/plain": [
       "<Figure size 432x288 with 0 Axes>"
      ]
     },
     "metadata": {},
     "output_type": "display_data"
    },
    {
     "data": {
      "image/png": "[encoded data removed]",
      "text/plain": [
       "<Figure size 432x288 with 1 Axes>"
      ]
     },
     "metadata": {
      "needs_background": "light"
     },
     "output_type": "display_data"
    },
    {
     "data": {
      "text/plain": [
       "<Figure size 432x288 with 0 Axes>"
      ]
     },
     "metadata": {},
     "output_type": "display_data"
    },
    {
     "data": {
      "image/png": "[encoded data removed]",
      "text/plain": [
       "<Figure size 432x288 with 1 Axes>"
      ]
     },
     "metadata": {
      "needs_background": "light"
     },
     "output_type": "display_data"
    },
    {
     "data": {
      "text/plain": [
       "<Figure size 432x288 with 0 Axes>"
      ]
     },
     "metadata": {},
     "output_type": "display_data"
    },
    {
     "data": {
      "image/png": "[encoded data removed]",
      "text/plain": [
       "<Figure size 432x288 with 1 Axes>"
      ]
     },
     "metadata": {
      "needs_background": "light"
     },
     "output_type": "display_data"
    }
   ],
   "source": [
    "# Numeric relationships (boxplots)\n",
    "def box_by_target(col):\n",
    "    if col not in X.columns:\n",
    "        return\n",
    "    plt.figure()\n",
    "    pd.DataFrame({\"x\": X[col], \"y\": y}).boxplot(column=\"x\", by=\"y\")\n",
    "    plt.title(f\"{col} by Attrition\")\n",
    "    plt.suptitle(\"\")\n",
    "    plt.tight_layout()\n",
    "    plt.savefig(f\"reports/box_{col}.png\")\n",
    "    plt.show()\n",
    "\n",
    "for col in [\"MonthlyIncome\",\"YearsAtCompany\",\"YearsSinceLastPromotion\",\"DistanceFromHome\"]:\n",
    "    box_by_target(col)"
   ]
  },
  {
   "cell_type": "code",
   "execution_count": 28,
   "id": "b90e909a",
   "metadata": {},
   "outputs": [
    {
     "name": "stdout",
     "output_type": "stream",
     "text": [
      "Train/test sizes: (1184, 36) (296, 36)\n"
     ]
    }
   ],
   "source": [
    "# 6) Train / Test split (stratified)\n",
    "X_train, X_test, y_train, y_test = train_test_split(\n",
    "    X, y, test_size=0.20, stratify=y, random_state=RANDOM_STATE\n",
    ")\n",
    "print(\"Train/test sizes:\", X_train.shape, X_test.shape)"
   ]
  },
  {
   "cell_type": "code",
   "execution_count": 29,
   "id": "846309fe",
   "metadata": {},
   "outputs": [],
   "source": [
    "# 7) Preprocessing pipeline\n",
    "# Use StandardScaler for numeric, OneHotEncoder for categorical. OneHotEncoder sparse=False for easier inspection.\n",
    "preprocessor = ColumnTransformer(transformers=[\n",
    "    (\"num\", StandardScaler(), num_cols),\n",
    "    (\"cat\", OneHotEncoder(handle_unknown=\"ignore\", sparse=False), cat_cols)\n",
    "], remainder=\"drop\")"
   ]
  },
  {
   "cell_type": "code",
   "execution_count": 30,
   "id": "efaff787",
   "metadata": {},
   "outputs": [],
   "source": [
    "# 8) Baseline models (Logistic Regression and Decision Tree)\n",
    "logpipe = Pipeline([(\"pre\", preprocessor), (\"clf\", LogisticRegression(max_iter=2000, class_weight=\"balanced\", random_state=RANDOM_STATE))])\n",
    "treepipe = Pipeline([(\"pre\", preprocessor), (\"clf\", DecisionTreeClassifier(class_weight=\"balanced\", random_state=RANDOM_STATE, min_samples_leaf=20, max_depth=6))])"
   ]
  },
  {
   "cell_type": "code",
   "execution_count": 31,
   "id": "f38c40a8",
   "metadata": {},
   "outputs": [
    {
     "name": "stdout",
     "output_type": "stream",
     "text": [
      "\n",
      "=== LogisticRegression ===\n",
      "              precision    recall  f1-score   support\n",
      "\n",
      "           0      0.961     0.802     0.875       248\n",
      "           1      0.449     0.833     0.584        48\n",
      "\n",
      "    accuracy                          0.807       296\n",
      "   macro avg      0.705     0.818     0.729       296\n",
      "weighted avg      0.878     0.807     0.828       296\n",
      "\n",
      "ROC-AUC: 0.8977654569892474\n",
      "PR-AUC: 0.7506411201197688\n",
      "\n",
      "=== DecisionTree ===\n",
      "              precision    recall  f1-score   support\n",
      "\n",
      "           0      0.889     0.742     0.809       248\n",
      "           1      0.281     0.521     0.365        48\n",
      "\n",
      "    accuracy                          0.706       296\n",
      "   macro avg      0.585     0.631     0.587       296\n",
      "weighted avg      0.790     0.706     0.737       296\n",
      "\n",
      "ROC-AUC: 0.6729250672043011\n",
      "PR-AUC: 0.4160128488778451\n"
     ]
    }
   ],
   "source": [
    "models = {\"LogisticRegression\": logpipe, \"DecisionTree\": treepipe}\n",
    "for name, pipe in models.items():\n",
    "    pipe.fit(X_train, y_train)\n",
    "    y_pred = pipe.predict(X_test)\n",
    "    if hasattr(pipe, \"predict_proba\"):\n",
    "        y_prob = pipe.predict_proba(X_test)[:, 1]\n",
    "    else:\n",
    "        # For classifiers without predict_proba fallback to decision path (rare)\n",
    "        y_prob = pipe.decision_function(X_test)\n",
    "        y_prob = (y_prob - y_prob.min()) / (y_prob.max() - y_prob.min())\n",
    "    print(f\"\\n=== {name} ===\")\n",
    "    print(classification_report(y_test, y_pred, digits=3))\n",
    "    print(\"ROC-AUC:\", roc_auc_score(y_test, y_prob))\n",
    "    print(\"PR-AUC:\", average_precision_score(y_test, y_prob))"
   ]
  },
  {
   "cell_type": "code",
   "execution_count": 32,
   "id": "eb0cd2c7",
   "metadata": {},
   "outputs": [
    {
     "name": "stdout",
     "output_type": "stream",
     "text": [
      "Best params (LogReg): {'clf__C': 0.1}\n"
     ]
    }
   ],
   "source": [
    "# 9) Tune Logistic Regression (GridSearchCV on C)\n",
    "param_grid = {\"clf__C\": [0.1, 0.3, 1, 3, 10]}\n",
    "cv = StratifiedKFold(n_splits=5, shuffle=True, random_state=RANDOM_STATE)\n",
    "grid = GridSearchCV(logpipe, param_grid, scoring=\"f1\", cv=cv, n_jobs=-1, verbose=0, refit=True)\n",
    "grid.fit(X_train, y_train)\n",
    "best = grid.best_estimator_\n",
    "print(\"Best params (LogReg):\", grid.best_params_)"
   ]
  },
  {
   "cell_type": "code",
   "execution_count": 33,
   "id": "6b6e8627",
   "metadata": {},
   "outputs": [
    {
     "name": "stdout",
     "output_type": "stream",
     "text": [
      "\n",
      "=== Tuned Logistic Regression (default 0.5 threshold) ===\n",
      "              precision    recall  f1-score   support\n",
      "\n",
      "           0      0.962     0.823     0.887       248\n",
      "           1      0.476     0.833     0.606        48\n",
      "\n",
      "    accuracy                          0.824       296\n",
      "   macro avg      0.719     0.828     0.747       296\n",
      "weighted avg      0.883     0.824     0.841       296\n",
      "\n",
      "ROC-AUC: 0.8940692204301075\n",
      "PR-AUC: 0.756101530021442\n"
     ]
    }
   ],
   "source": [
    "# Evaluate tuned model\n",
    "y_prob = best.predict_proba(X_test)[:, 1]\n",
    "y_pred_default = best.predict(X_test)\n",
    "print(\"\\n=== Tuned Logistic Regression (default 0.5 threshold) ===\")\n",
    "print(classification_report(y_test, y_pred_default, digits=3))\n",
    "print(\"ROC-AUC:\", roc_auc_score(y_test, y_prob))\n",
    "print(\"PR-AUC:\", average_precision_score(y_test, y_prob))"
   ]
  },
  {
   "cell_type": "code",
   "execution_count": 34,
   "id": "475097f7",
   "metadata": {},
   "outputs": [
    {
     "name": "stdout",
     "output_type": "stream",
     "text": [
      "Best threshold by F1 on test set (approx): 0.7337160459506444\n"
     ]
    }
   ],
   "source": [
    " # 10) Choose threshold by maximizing F1 on validation (use PR curve thresholds)\n",
    "prec, rec, thresholds = precision_recall_curve(y_test, y_prob)\n",
    "# thresholds length = len(prec)-1 ; compute f1 for each threshold\n",
    "f1_scores = 2 * (prec[:-1] * rec[:-1]) / (prec[:-1] + rec[:-1] + 1e-12)\n",
    "best_idx = np.nanargmax(f1_scores)\n",
    "best_threshold = thresholds[best_idx] if len(thresholds) > 0 else 0.5\n",
    "print(\"Best threshold by F1 on test set (approx):\", best_threshold)\n"
   ]
  },
  {
   "cell_type": "code",
   "execution_count": 35,
   "id": "8ff702a5",
   "metadata": {},
   "outputs": [
    {
     "name": "stdout",
     "output_type": "stream",
     "text": [
      "\n",
      "=== Tuned Logistic Regression (thresholded) ===\n",
      "              precision    recall  f1-score   support\n",
      "\n",
      "           0      0.940     0.956     0.948       248\n",
      "           1      0.750     0.688     0.717        48\n",
      "\n",
      "    accuracy                          0.912       296\n",
      "   macro avg      0.845     0.822     0.833       296\n",
      "weighted avg      0.910     0.912     0.911       296\n",
      "\n"
     ]
    },
    {
     "data": {
      "text/plain": [
       "<Figure size 288x216 with 0 Axes>"
      ]
     },
     "metadata": {},
     "output_type": "display_data"
    },
    {
     "data": {
      "image/png": "[encoded data removed]",
      "text/plain": [
       "<Figure size 432x288 with 2 Axes>"
      ]
     },
     "metadata": {
      "needs_background": "light"
     },
     "output_type": "display_data"
    }
   ],
   "source": [
    "y_pred_thr = (y_prob >= best_threshold).astype(int)\n",
    "print(\"\\n=== Tuned Logistic Regression (thresholded) ===\")\n",
    "print(classification_report(y_test, y_pred_thr, digits=3))\n",
    "cm = confusion_matrix(y_test, y_pred_thr)\n",
    "disp = ConfusionMatrixDisplay(cm, display_labels=[\"Stay\", \"Leave\"])\n",
    "plt.figure(figsize=(4,3))\n",
    "disp.plot(values_format=\"d\")\n",
    "plt.title(\"Confusion Matrix (thresholded)\")\n",
    "plt.tight_layout()\n",
    "plt.savefig(\"reports/confusion_matrix_thresholded.png\")\n",
    "plt.show()"
   ]
  },
  {
   "cell_type": "code",
   "execution_count": 36,
   "id": "f136435d",
   "metadata": {},
   "outputs": [
    {
     "data": {
      "image/png": "[encoded data removed]",
      "text/plain": [
       "<Figure size 432x288 with 1 Axes>"
      ]
     },
     "metadata": {
      "needs_background": "light"
     },
     "output_type": "display_data"
    }
   ],
   "source": [
    "# Save ROC and PR curves\n",
    "fpr, tpr, _ = roc_curve(y_test, y_prob)\n",
    "plt.figure()\n",
    "plt.plot(fpr, tpr, label=f\"AUC={roc_auc_score(y_test, y_prob):.3f}\")\n",
    "plt.plot([0,1],[0,1], linestyle=\"--\")\n",
    "plt.xlabel(\"False Positive Rate\")\n",
    "plt.ylabel(\"True Positive Rate\")\n",
    "plt.title(\"ROC Curve\")\n",
    "plt.legend()\n",
    "plt.tight_layout()\n",
    "plt.savefig(\"reports/roc_curve.png\")\n",
    "plt.show()"
   ]
  },
  {
   "cell_type": "code",
   "execution_count": 37,
   "id": "44540bf5",
   "metadata": {},
   "outputs": [
    {
     "data": {
      "image/png": "[encoded data removed]",
      "text/plain": [
       "<Figure size 432x288 with 1 Axes>"
      ]
     },
     "metadata": {
      "needs_background": "light"
     },
     "output_type": "display_data"
    }
   ],
   "source": [
    "plt.figure()\n",
    "plt.plot(rec, prec)\n",
    "plt.xlabel(\"Recall\")\n",
    "plt.ylabel(\"Precision\")\n",
    "plt.title(\"Precision-Recall Curve\")\n",
    "plt.tight_layout()\n",
    "plt.savefig(\"reports/pr_curve.png\")\n",
    "plt.show()"
   ]
  },
  {
   "cell_type": "code",
   "execution_count": 38,
   "id": "016b0f68",
   "metadata": {},
   "outputs": [
    {
     "name": "stdout",
     "output_type": "stream",
     "text": [
      "Total features after encoding: 69\n"
     ]
    }
   ],
   "source": [
    "# 11) Feature names (after preprocessing) — useful for feature importance and SHAP\n",
    "pre = best.named_steps[\"pre\"]  # fitted ColumnTransformer\n",
    "# Build feature name list:\n",
    "ohe = pre.named_transformers_[\"cat\"]\n",
    "try:\n",
    "    # sklearn >= 1.0\n",
    "    cat_feature_names = ohe.get_feature_names_out(cat_cols).tolist()\n",
    "except Exception:\n",
    "    # fallback for older sklearn\n",
    "    cat_feature_names = []\n",
    "    # attempt to reconstruct names (less pretty)\n",
    "    for c in cat_cols:\n",
    "        categories = ohe.categories_[cat_cols.index(c)]\n",
    "        for cat in categories:\n",
    "            cat_feature_names.append(f\"{c}__{cat}\")\n",
    "\n",
    "feature_names = list(num_cols) + cat_feature_names\n",
    "print(\"Total features after encoding:\", len(feature_names))"
   ]
  },
  {
   "cell_type": "code",
   "execution_count": 39,
   "id": "c8349672",
   "metadata": {},
   "outputs": [
    {
     "data": {
      "image/png": "[encoded data removed]",
      "text/plain": [
       "<Figure size 576x288 with 1 Axes>"
      ]
     },
     "metadata": {
      "needs_background": "light"
     },
     "output_type": "display_data"
    }
   ],
   "source": [
    "# 12) Decision Tree feature importance (if you want an interpretable tree)\n",
    "if \"DecisionTree\" in models:\n",
    "    tree_model = treepipe.fit(X_train, y_train).named_steps[\"clf\"]\n",
    "    # get feature importances via preprocessor transform\n",
    "    X_dummy = pre.transform(X_train)\n",
    "    importances = tree_model.feature_importances_\n",
    "    if len(importances) == len(feature_names):\n",
    "        fi = pd.Series(importances, index=feature_names).sort_values(ascending=False)[:30]\n",
    "        plt.figure(figsize=(8,4))\n",
    "        fi.plot(kind=\"bar\")\n",
    "        plt.title(\"Top Decision Tree Feature Importances\")\n",
    "        plt.tight_layout()\n",
    "        plt.savefig(\"reports/tree_feature_importances.png\")\n",
    "        plt.show()"
   ]
  },
  {
   "cell_type": "code",
   "execution_count": 40,
   "id": "f35c6fca",
   "metadata": {},
   "outputs": [
    {
     "name": "stdout",
     "output_type": "stream",
     "text": [
      "SHAP plotting failed: set_ticks() got an unexpected keyword argument 'fontsize'\n"
     ]
    },
    {
     "data": {
      "image/png": "[encoded data removed]",
      "text/plain": [
       "<Figure size 576x540 with 2 Axes>"
      ]
     },
     "metadata": {
      "needs_background": "light"
     },
     "output_type": "display_data"
    }
   ],
   "source": [
    "# 13) SHAP explainability (if installed)\n",
    "try:\n",
    "    import shap\n",
    "    SHAP_AVAILABLE = True\n",
    "except Exception:\n",
    "    SHAP_AVAILABLE = False\n",
    "    print(\"SHAP not installed — skip SHAP steps (pip install shap to enable\")\n",
    "import shap\n",
    "clf = best.named_steps[\"clf\"]\n",
    "# Transform train/test to preprocessed arrays\n",
    "X_train_trans = pre.transform(X_train)\n",
    "X_test_trans = pre.transform(X_test)\n",
    "# Convert sparse to dense if needed\n",
    "if hasattr(X_train_trans, \"toarray\"):\n",
    "        X_train_trans = X_train_trans.toarray()\n",
    "        X_test_trans = X_test_trans.toarray()\n",
    "try:\n",
    "    # Use the general Explainer (works for many model types)\n",
    "    explainer = shap.Explainer(clf, X_train_trans, feature_names=feature_names)\n",
    "    shap_values = explainer(X_test_trans)\n",
    "    # Summary beeswarm\n",
    "    plt.figure()\n",
    "    shap.plots.beeswarm(shap_values, max_display=15, show=False)\n",
    "    plt.tight_layout()\n",
    "    plt.savefig(\"reports/shap_beeswarm.png\")\n",
    "    plt.show()\n",
    "except Exception as e:\n",
    "        print(\"SHAP plotting failed:\", e)\n",
    "else:\n",
    "    print(\"SHAP not available — install with: pip install shap\")"
   ]
  },
  {
   "cell_type": "code",
   "execution_count": 41,
   "id": "2df37e65",
   "metadata": {},
   "outputs": [
    {
     "name": "stdout",
     "output_type": "stream",
     "text": [
      "Requirement already satisfied: typing_extensions in c:\\users\\vpriy\\anaconda3\\lib\\site-packages (4.14.1)\n",
      "Requirement already satisfied: shap in c:\\users\\vpriy\\anaconda3\\lib\\site-packages (0.48.0)\n",
      "Requirement already satisfied: tqdm>=4.27.0 in c:\\users\\vpriy\\anaconda3\\lib\\site-packages (from shap) (4.62.3)\n",
      "Requirement already satisfied: pandas in c:\\users\\vpriy\\anaconda3\\lib\\site-packages (from shap) (1.3.4)\n",
      "Requirement already satisfied: cloudpickle in c:\\users\\vpriy\\anaconda3\\lib\\site-packages (from shap) (2.0.0)\n",
      "Requirement already satisfied: slicer==0.0.8 in c:\\users\\vpriy\\anaconda3\\lib\\site-packages (from shap) (0.0.8)\n",
      "Requirement already satisfied: numba>=0.54 in c:\\users\\vpriy\\anaconda3\\lib\\site-packages (from shap) (0.54.1)\n",
      "Requirement already satisfied: numpy in c:\\users\\vpriy\\anaconda3\\lib\\site-packages (from shap) (1.20.3)\n",
      "Requirement already satisfied: packaging>20.9 in c:\\users\\vpriy\\anaconda3\\lib\\site-packages (from shap) (21.0)\n",
      "Requirement already satisfied: scikit-learn in c:\\users\\vpriy\\anaconda3\\lib\\site-packages (from shap) (1.3.0)\n",
      "Requirement already satisfied: scipy in c:\\users\\vpriy\\anaconda3\\lib\\site-packages (from shap) (1.7.1)\n",
      "Requirement already satisfied: setuptools in c:\\users\\vpriy\\anaconda3\\lib\\site-packages (from numba>=0.54->shap) (58.0.4)\n",
      "Requirement already satisfied: llvmlite<0.38,>=0.37.0rc1 in c:\\users\\vpriy\\anaconda3\\lib\\site-packages (from numba>=0.54->shap) (0.37.0)\n",
      "Requirement already satisfied: pyparsing>=2.0.2 in c:\\users\\vpriy\\anaconda3\\lib\\site-packages (from packaging>20.9->shap) (3.0.4)\n",
      "Requirement already satisfied: colorama in c:\\users\\vpriy\\anaconda3\\lib\\site-packages (from tqdm>=4.27.0->shap) (0.4.4)\n",
      "Requirement already satisfied: pytz>=2017.3 in c:\\users\\vpriy\\anaconda3\\lib\\site-packages (from pandas->shap) (2021.3)\n",
      "Requirement already satisfied: python-dateutil>=2.7.3 in c:\\users\\vpriy\\anaconda3\\lib\\site-packages (from pandas->shap) (2.8.2)\n",
      "Requirement already satisfied: six>=1.5 in c:\\users\\vpriy\\anaconda3\\lib\\site-packages (from python-dateutil>=2.7.3->pandas->shap) (1.16.0)\n",
      "Requirement already satisfied: joblib>=1.1.1 in c:\\users\\vpriy\\anaconda3\\lib\\site-packages (from scikit-learn->shap) (1.3.2)\n",
      "Requirement already satisfied: threadpoolctl>=2.0.0 in c:\\users\\vpriy\\anaconda3\\lib\\site-packages (from scikit-learn->shap) (2.2.0)\n",
      "Note: you may need to restart the kernel to use updated packages.\n"
     ]
    }
   ],
   "source": [
    "pip install --upgrade typing_extensions shap"
   ]
  },
  {
   "cell_type": "code",
   "execution_count": 42,
   "id": "1d313926",
   "metadata": {},
   "outputs": [
    {
     "name": "stdout",
     "output_type": "stream",
     "text": [
      "Saved scored table to: C:/Users/vpriy/artifacts\n"
     ]
    },
    {
     "data": {
      "text/html": [
       "<div>\n",
       "<style scoped>\n",
       "    .dataframe tbody tr th:only-of-type {\n",
       "        vertical-align: middle;\n",
       "    }\n",
       "\n",
       "    .dataframe tbody tr th {\n",
       "        vertical-align: top;\n",
       "    }\n",
       "\n",
       "    .dataframe thead th {\n",
       "        text-align: right;\n",
       "    }\n",
       "</style>\n",
       "<table border=\"1\" class=\"dataframe\">\n",
       "  <thead>\n",
       "    <tr style=\"text-align: right;\">\n",
       "      <th></th>\n",
       "      <th>Department</th>\n",
       "      <th>JobRole</th>\n",
       "      <th>MonthlyIncome</th>\n",
       "      <th>OverTime</th>\n",
       "      <th>YearsAtCompany</th>\n",
       "      <th>JobSatisfaction</th>\n",
       "      <th>WorkLifeBalance</th>\n",
       "      <th>Attrition_Prob</th>\n",
       "      <th>Predicted_Attrition</th>\n",
       "    </tr>\n",
       "  </thead>\n",
       "  <tbody>\n",
       "    <tr>\n",
       "      <th>0</th>\n",
       "      <td>Research &amp; Development</td>\n",
       "      <td>Research Scientist</td>\n",
       "      <td>3505</td>\n",
       "      <td>No</td>\n",
       "      <td>2</td>\n",
       "      <td>3</td>\n",
       "      <td>3</td>\n",
       "      <td>0.334235</td>\n",
       "      <td>0</td>\n",
       "    </tr>\n",
       "    <tr>\n",
       "      <th>1</th>\n",
       "      <td>Research &amp; Development</td>\n",
       "      <td>Manager</td>\n",
       "      <td>11878</td>\n",
       "      <td>No</td>\n",
       "      <td>10</td>\n",
       "      <td>2</td>\n",
       "      <td>3</td>\n",
       "      <td>0.334409</td>\n",
       "      <td>0</td>\n",
       "    </tr>\n",
       "    <tr>\n",
       "      <th>2</th>\n",
       "      <td>Research &amp; Development</td>\n",
       "      <td>Research Scientist</td>\n",
       "      <td>4087</td>\n",
       "      <td>No</td>\n",
       "      <td>6</td>\n",
       "      <td>1</td>\n",
       "      <td>2</td>\n",
       "      <td>0.267610</td>\n",
       "      <td>0</td>\n",
       "    </tr>\n",
       "    <tr>\n",
       "      <th>3</th>\n",
       "      <td>Research &amp; Development</td>\n",
       "      <td>Laboratory Technician</td>\n",
       "      <td>2270</td>\n",
       "      <td>No</td>\n",
       "      <td>5</td>\n",
       "      <td>4</td>\n",
       "      <td>3</td>\n",
       "      <td>0.021178</td>\n",
       "      <td>0</td>\n",
       "    </tr>\n",
       "    <tr>\n",
       "      <th>4</th>\n",
       "      <td>Research &amp; Development</td>\n",
       "      <td>Manufacturing Director</td>\n",
       "      <td>5993</td>\n",
       "      <td>No</td>\n",
       "      <td>7</td>\n",
       "      <td>3</td>\n",
       "      <td>4</td>\n",
       "      <td>0.027216</td>\n",
       "      <td>0</td>\n",
       "    </tr>\n",
       "    <tr>\n",
       "      <th>5</th>\n",
       "      <td>Sales</td>\n",
       "      <td>Sales Executive</td>\n",
       "      <td>7991</td>\n",
       "      <td>No</td>\n",
       "      <td>2</td>\n",
       "      <td>2</td>\n",
       "      <td>3</td>\n",
       "      <td>0.667233</td>\n",
       "      <td>0</td>\n",
       "    </tr>\n",
       "    <tr>\n",
       "      <th>6</th>\n",
       "      <td>Research &amp; Development</td>\n",
       "      <td>Research Scientist</td>\n",
       "      <td>4869</td>\n",
       "      <td>No</td>\n",
       "      <td>4</td>\n",
       "      <td>3</td>\n",
       "      <td>2</td>\n",
       "      <td>0.100442</td>\n",
       "      <td>0</td>\n",
       "    </tr>\n",
       "    <tr>\n",
       "      <th>7</th>\n",
       "      <td>Research &amp; Development</td>\n",
       "      <td>Research Director</td>\n",
       "      <td>13603</td>\n",
       "      <td>Yes</td>\n",
       "      <td>5</td>\n",
       "      <td>4</td>\n",
       "      <td>3</td>\n",
       "      <td>0.063401</td>\n",
       "      <td>0</td>\n",
       "    </tr>\n",
       "    <tr>\n",
       "      <th>8</th>\n",
       "      <td>Research &amp; Development</td>\n",
       "      <td>Healthcare Representative</td>\n",
       "      <td>6870</td>\n",
       "      <td>No</td>\n",
       "      <td>3</td>\n",
       "      <td>2</td>\n",
       "      <td>1</td>\n",
       "      <td>0.241789</td>\n",
       "      <td>0</td>\n",
       "    </tr>\n",
       "    <tr>\n",
       "      <th>9</th>\n",
       "      <td>Research &amp; Development</td>\n",
       "      <td>Manufacturing Director</td>\n",
       "      <td>4011</td>\n",
       "      <td>No</td>\n",
       "      <td>4</td>\n",
       "      <td>3</td>\n",
       "      <td>2</td>\n",
       "      <td>0.034399</td>\n",
       "      <td>0</td>\n",
       "    </tr>\n",
       "  </tbody>\n",
       "</table>\n",
       "</div>"
      ],
      "text/plain": [
       "               Department                    JobRole  MonthlyIncome OverTime  \\\n",
       "0  Research & Development         Research Scientist           3505       No   \n",
       "1  Research & Development                    Manager          11878       No   \n",
       "2  Research & Development         Research Scientist           4087       No   \n",
       "3  Research & Development      Laboratory Technician           2270       No   \n",
       "4  Research & Development     Manufacturing Director           5993       No   \n",
       "5                   Sales            Sales Executive           7991       No   \n",
       "6  Research & Development         Research Scientist           4869       No   \n",
       "7  Research & Development          Research Director          13603      Yes   \n",
       "8  Research & Development  Healthcare Representative           6870       No   \n",
       "9  Research & Development     Manufacturing Director           4011       No   \n",
       "\n",
       "   YearsAtCompany  JobSatisfaction  WorkLifeBalance  Attrition_Prob  \\\n",
       "0               2                3                3        0.334235   \n",
       "1              10                2                3        0.334409   \n",
       "2               6                1                2        0.267610   \n",
       "3               5                4                3        0.021178   \n",
       "4               7                3                4        0.027216   \n",
       "5               2                2                3        0.667233   \n",
       "6               4                3                2        0.100442   \n",
       "7               5                4                3        0.063401   \n",
       "8               3                2                1        0.241789   \n",
       "9               4                3                2        0.034399   \n",
       "\n",
       "   Predicted_Attrition  \n",
       "0                    0  \n",
       "1                    0  \n",
       "2                    0  \n",
       "3                    0  \n",
       "4                    0  \n",
       "5                    0  \n",
       "6                    0  \n",
       "7                    0  \n",
       "8                    0  \n",
       "9                    0  "
      ]
     },
     "metadata": {},
     "output_type": "display_data"
    }
   ],
   "source": [
    "# 14) Score & export for Power BI / HR\n",
    "scores_df = X_test.copy()\n",
    "scores_df = scores_df.reset_index(drop=True)\n",
    "scores_df[\"Attrition_Prob\"] = y_prob\n",
    "scores_df[\"Predicted_Attrition\"] = y_pred_thr\n",
    "# Keep some context columns if exist\n",
    "context = [c for c in [\"Department\",\"JobRole\",\"MonthlyIncome\",\"OverTime\",\"YearsAtCompany\",\"JobSatisfaction\",\"WorkLifeBalance\"] if c in scores_df.columns]\n",
    "export_df = scores_df[context + [\"Attrition_Prob\",\"Predicted_Attrition\"]]\n",
    "export_path = \"artifacts/employee_attrition_scores.csv\"\n",
    "export_df.to_csv(export_path, index=False)\n",
    "print(\"Saved scored table to:\",\"C:/Users/vpriy/artifacts\" )\n",
    "display(export_df.head(10))"
   ]
  },
  {
   "cell_type": "code",
   "execution_count": 43,
   "id": "aade0218",
   "metadata": {},
   "outputs": [
    {
     "name": "stdout",
     "output_type": "stream",
     "text": [
      "Saved best model to artifacts/best_logistic_model.pkl\n"
     ]
    }
   ],
   "source": [
    "# 15) Save model & artifacts\n",
    "joblib.dump(best, \"artifacts/best_logistic_model.pkl\")\n",
    "print(\"Saved best model to artifacts/best_logistic_model.pkl\")"
   ]
  },
  {
   "cell_type": "code",
   "execution_count": 44,
   "id": "18c47524",
   "metadata": {},
   "outputs": [
    {
     "name": "stdout",
     "output_type": "stream",
     "text": [
      "\n",
      "--- Summary ---\n",
      "Best logistic params: {'clf__C': 0.1}\n",
      "Saved artifacts: reports/* and artifacts/*\n",
      "Open 'reports' to view confusion matrix, ROC/PR curves and optional SHAP plot.\n"
     ]
    }
   ],
   "source": [
    "# 16) Final summary\n",
    "print(\"\\n--- Summary ---\")\n",
    "print(\"Best logistic params:\", grid.best_params_)\n",
    "print(\"Saved artifacts: reports/* and artifacts/*\")\n",
    "print(\"Open 'reports' to view confusion matrix, ROC/PR curves and optional SHAP plot.\")"
   ]
  },
  {
   "cell_type": "code",
   "execution_count": null,
   "id": "424be7d2",
   "metadata": {},
   "outputs": [],
   "source": []
  }
 ],
 "metadata": {
  "kernelspec": {
   "display_name": "Python 3 (ipykernel)",
   "language": "python",
   "name": "python3"
  },
  "language_info": {
   "codemirror_mode": {
    "name": "ipython",
    "version": 3
   },
   "file_extension": ".py",
   "mimetype": "text/x-python",
   "name": "python",
   "nbconvert_exporter": "python",
   "pygments_lexer": "ipython3",
   "version": "3.9.7"
  }
 },
 "nbformat": 4,
 "nbformat_minor": 5
}
